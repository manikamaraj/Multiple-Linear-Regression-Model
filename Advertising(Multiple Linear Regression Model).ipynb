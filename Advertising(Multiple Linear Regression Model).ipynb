{
 "cells": [
  {
   "cell_type": "code",
   "execution_count": 1,
   "id": "773fdf3d-d157-450e-9983-8020c8b25206",
   "metadata": {},
   "outputs": [],
   "source": [
    "import pandas as pd \n",
    "import numpy as np"
   ]
  },
  {
   "cell_type": "code",
   "execution_count": 13,
   "id": "4caf05a1-62ee-4c9c-8f68-6b67f8f5a23b",
   "metadata": {},
   "outputs": [],
   "source": [
    "dataset=pd.read_csv('advertising.csv')\n",
    "X=dataset.iloc[:,:-1].values\n",
    "y=dataset.iloc[:,-1].values"
   ]
  },
  {
   "cell_type": "code",
   "execution_count": 35,
   "id": "00cdd0ab-fc36-4f23-9916-549038d15c53",
   "metadata": {},
   "outputs": [
    {
     "name": "stdout",
     "output_type": "stream",
     "text": [
      "[22.1 10.4 12.  16.5 17.9  7.2 11.8 13.2  4.8 15.6 12.6 17.4  9.2 13.7\n",
      " 19.  22.4 12.5 24.4 11.3 14.6 18.  17.5  5.6 20.5  9.7 17.  15.  20.9\n",
      " 18.9 10.5 21.4 11.9 13.2 17.4 11.9 17.8 25.4 14.7 10.1 21.5 16.6 17.1\n",
      " 20.7 17.9  8.5 16.1 10.6 23.2 19.8  9.7 16.4 10.7 22.6 21.2 20.2 23.7\n",
      "  5.5 13.2 23.8 18.4  8.1 24.2 20.7 14.  16.  11.3 11.  13.4 18.9 22.3\n",
      " 18.3 12.4  8.8 11.  17.   8.7  6.9 14.2  5.3 11.  11.8 17.3 11.3 13.6\n",
      " 21.7 20.2 12.  16.  12.9 16.7 14.   7.3 19.4 22.2 11.5 16.9 16.7 20.5\n",
      " 25.4 17.2 16.7 23.8 19.8 19.7 20.7 15.   7.2 12.   5.3 19.8 18.4 21.8\n",
      " 17.1 20.9 14.6 12.6 12.2  9.4 15.9  6.6 15.5  7.  16.6 15.2 19.7 10.6\n",
      "  6.6 11.9 24.7  9.7  1.6 17.7  5.7 19.6 10.8 11.6  9.5 20.8  9.6 20.7\n",
      " 10.9 19.2 20.1 10.4 12.3 10.3 18.2 25.4 10.9 10.1 16.1 11.6 16.6 16.\n",
      " 20.6  3.2 15.3 10.1  7.3 12.9 16.4 13.3 19.9 18.  11.9 16.9  8.  17.2\n",
      " 17.1 20.   8.4 17.5  7.6 16.7 16.5 27.  20.2 16.7 16.8 17.6 15.5 17.2\n",
      "  8.7 26.2 17.6 22.6 10.3 17.3 20.9  6.7 10.8 11.9  5.9 19.6 17.3  7.6\n",
      " 14.  14.8 25.5 18.4]\n"
     ]
    }
   ],
   "source": [
    "print(y)"
   ]
  },
  {
   "cell_type": "code",
   "execution_count": 21,
   "id": "019ae2e6-68cb-4a52-8b67-60ad9b23023c",
   "metadata": {},
   "outputs": [],
   "source": [
    "from sklearn.model_selection import train_test_split\n",
    "X_train,X_test,y_train,y_test=train_test_split(X,y,test_size=0.2,random_state=0)"
   ]
  },
  {
   "cell_type": "code",
   "execution_count": 29,
   "id": "2935791f-dabd-4ddc-93d8-56162da95817",
   "metadata": {},
   "outputs": [],
   "source": [
    "from sklearn.linear_model import LinearRegression\n",
    "regressor=LinearRegression()\n",
    "regressor.fit(X_train,y_train)\n",
    "y_pred=regressor.predict(X_test)"
   ]
  },
  {
   "cell_type": "code",
   "execution_count": 33,
   "id": "cdb3c568-9761-4865-9aa0-e89fcda0fe5e",
   "metadata": {},
   "outputs": [],
   "source": [
    "np.set_printoptions(precision=2)"
   ]
  },
  {
   "cell_type": "code",
   "execution_count": 39,
   "id": "bd56c71a-7e01-4c5e-b10f-f514eab67cc4",
   "metadata": {},
   "outputs": [
    {
     "data": {
      "text/plain": [
       "array([[11.3 , 10.71],\n",
       "       [ 8.4 ,  8.69],\n",
       "       [12.  ,  9.58],\n",
       "       [25.4 , 24.86],\n",
       "       [16.7 , 14.66],\n",
       "       [ 8.7 ,  8.32],\n",
       "       [ 7.2 , 10.43],\n",
       "       [18.2 , 18.45],\n",
       "       [ 9.2 ,  9.73],\n",
       "       [16.6 , 17.93],\n",
       "       [24.2 , 23.37],\n",
       "       [10.6 , 10.68],\n",
       "       [15.5 , 13.44],\n",
       "       [20.6 , 17.17],\n",
       "       [11.8 , 11.77],\n",
       "       [13.2 , 13.37],\n",
       "       [17.4 , 21.26],\n",
       "       [ 1.6 ,  9.2 ],\n",
       "       [14.7 , 14.13],\n",
       "       [17.  , 18.93],\n",
       "       [26.2 , 24.76],\n",
       "       [10.3 , 12.48],\n",
       "       [16.1 , 16.57],\n",
       "       [12.9 , 13.77],\n",
       "       [ 8.1 ,  7.79],\n",
       "       [15.2 , 15.2 ],\n",
       "       [17.6 , 14.72],\n",
       "       [22.6 , 20.74],\n",
       "       [16.6 , 17.01],\n",
       "       [ 8.5 ,  8.83],\n",
       "       [12.5 , 12.09],\n",
       "       [23.7 , 20.75],\n",
       "       [16.1 , 21.26],\n",
       "       [21.8 , 21.9 ],\n",
       "       [ 5.6 ,  7.08],\n",
       "       [ 6.7 ,  7.04],\n",
       "       [ 9.7 ,  9.16],\n",
       "       [17.9 , 15.48],\n",
       "       [13.6 , 13.28],\n",
       "       [ 7.2 ,  7.24]])"
      ]
     },
     "execution_count": 39,
     "metadata": {},
     "output_type": "execute_result"
    }
   ],
   "source": [
    "np.concatenate((y_test.reshape(len(y_test),1),y_pred.reshape(len(y_pred),1)),axis=1)"
   ]
  },
  {
   "cell_type": "code",
   "execution_count": null,
   "id": "2f15b789-3aae-404d-89b0-49495fa4b33d",
   "metadata": {},
   "outputs": [],
   "source": []
  }
 ],
 "metadata": {
  "kernelspec": {
   "display_name": "Python 3 (ipykernel)",
   "language": "python",
   "name": "python3"
  },
  "language_info": {
   "codemirror_mode": {
    "name": "ipython",
    "version": 3
   },
   "file_extension": ".py",
   "mimetype": "text/x-python",
   "name": "python",
   "nbconvert_exporter": "python",
   "pygments_lexer": "ipython3",
   "version": "3.12.4"
  }
 },
 "nbformat": 4,
 "nbformat_minor": 5
}
